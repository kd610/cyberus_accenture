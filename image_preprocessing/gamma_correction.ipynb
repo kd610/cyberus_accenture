{
 "cells": [
  {
   "cell_type": "code",
   "execution_count": 3,
   "metadata": {},
   "outputs": [],
   "source": [
    "import cv2\n",
    "import numpy as np\n",
    "import math"
   ]
  },
  {
   "cell_type": "code",
   "execution_count": 4,
   "metadata": {},
   "outputs": [],
   "source": [
    "# read image\n",
    "img = cv2.imread('/Users/hasandemirkiran/Desktop/cyberus_accenture/dataset/defect/-5_degree_defect/garching00073.png')"
   ]
  },
  {
   "cell_type": "code",
   "execution_count": 5,
   "metadata": {},
   "outputs": [],
   "source": [
    "# convert img to gray\n",
    "gray = cv2.cvtColor(img, cv2.COLOR_BGR2GRAY)"
   ]
  },
  {
   "cell_type": "code",
   "execution_count": 6,
   "metadata": {},
   "outputs": [
    {
     "name": "stdout",
     "output_type": "stream",
     "text": [
      "1.1923614467359822\n"
     ]
    }
   ],
   "source": [
    "# compute gamma = log(mid*255)/log(mean)\n",
    "mid = 0.5\n",
    "mean = np.mean(gray)\n",
    "gamma = math.log(mid*255)/math.log(mean)\n",
    "print(gamma)\n"
   ]
  },
  {
   "cell_type": "code",
   "execution_count": 7,
   "metadata": {},
   "outputs": [],
   "source": [
    "# do gamma correction\n",
    "img_gamma1 = np.power(img, gamma).clip(0,255).astype(np.uint8)\n"
   ]
  },
  {
   "cell_type": "code",
   "execution_count": 8,
   "metadata": {},
   "outputs": [],
   "source": [
    "# METHOD 2: HSV (or other color spaces)\n",
    "\n",
    "# convert img to HSV\n",
    "hsv = cv2.cvtColor(img, cv2.COLOR_BGR2HSV)\n",
    "hue, sat, val = cv2.split(hsv)"
   ]
  },
  {
   "cell_type": "code",
   "execution_count": 9,
   "metadata": {},
   "outputs": [
    {
     "name": "stdout",
     "output_type": "stream",
     "text": [
      "1.0780822607229097\n"
     ]
    }
   ],
   "source": [
    "# compute gamma = log(mid*255)/log(mean)\n",
    "mid = 0.5\n",
    "mean = np.mean(val)\n",
    "gamma = math.log(mid*255)/math.log(mean)\n",
    "print(gamma)"
   ]
  },
  {
   "cell_type": "code",
   "execution_count": 10,
   "metadata": {},
   "outputs": [],
   "source": [
    "# do gamma correction on value channel\n",
    "val_gamma = np.power(val, gamma).clip(0,255).astype(np.uint8)"
   ]
  },
  {
   "cell_type": "code",
   "execution_count": 11,
   "metadata": {},
   "outputs": [],
   "source": [
    "# combine new value channel with original hue and sat channels\n",
    "hsv_gamma = cv2.merge([hue, sat, val_gamma])\n",
    "img_gamma2 = cv2.cvtColor(hsv_gamma, cv2.COLOR_HSV2BGR)"
   ]
  },
  {
   "cell_type": "code",
   "execution_count": 12,
   "metadata": {},
   "outputs": [],
   "source": [
    "# show results\n",
    "cv2.imshow('input', img)\n",
    "cv2.imshow('result1', img_gamma1)\n",
    "cv2.imshow('result2', img_gamma2)\n",
    "cv2.waitKey(0)\n",
    "cv2.destroyAllWindows()"
   ]
  },
  {
   "cell_type": "code",
   "execution_count": null,
   "metadata": {},
   "outputs": [],
   "source": []
  }
 ],
 "metadata": {
  "interpreter": {
   "hash": "00c88975b2dff227b344ff19ce55ede86c9fc478a9566b1636c7117931959b1e"
  },
  "kernelspec": {
   "display_name": "Python 3.8.5 64-bit ('base': conda)",
   "language": "python",
   "name": "python3"
  },
  "language_info": {
   "codemirror_mode": {
    "name": "ipython",
    "version": 3
   },
   "file_extension": ".py",
   "mimetype": "text/x-python",
   "name": "python",
   "nbconvert_exporter": "python",
   "pygments_lexer": "ipython3",
   "version": "3.8.5"
  },
  "orig_nbformat": 4
 },
 "nbformat": 4,
 "nbformat_minor": 2
}
